{
 "cells": [
  {
   "cell_type": "code",
   "execution_count": 1,
   "id": "26b601c4-8d4f-4996-a1d8-60ed6820841b",
   "metadata": {},
   "outputs": [
    {
     "ename": "IndentationError",
     "evalue": "expected an indented block after function definition on line 116 (Census.py, line 117)",
     "output_type": "error",
     "traceback": [
      "Traceback \u001b[1;36m(most recent call last)\u001b[0m:\n",
      "\u001b[0m  File \u001b[0;32m~\\AppData\\Local\\Programs\\Python\\Python310\\lib\\site-packages\\IPython\\core\\interactiveshell.py:3378\u001b[0m in \u001b[0;35mrun_code\u001b[0m\n    exec(code_obj, self.user_global_ns, self.user_ns)\u001b[0m\n",
      "\u001b[1;36m  Cell \u001b[1;32mIn [1], line 1\u001b[1;36m\n\u001b[1;33m    import Census as c\u001b[1;36m\n",
      "\u001b[1;36m  File \u001b[1;32mE:\\(000) Git\\gafincens2025\\Census.py:117\u001b[1;36m\u001b[0m\n\u001b[1;33m    \"\"\"For a single-choice question, returns df of choices and number of responses\u001b[0m\n\u001b[1;37m    ^\u001b[0m\n\u001b[1;31mIndentationError\u001b[0m\u001b[1;31m:\u001b[0m expected an indented block after function definition on line 116\n"
     ]
    }
   ],
   "source": [
    "import Census as c"
   ]
  },
  {
   "cell_type": "code",
   "execution_count": null,
   "id": "6a15acb0-0881-4744-b186-7acd1c3fea51",
   "metadata": {},
   "outputs": [],
   "source": [
    "c.Census?"
   ]
  }
 ],
 "metadata": {
  "kernelspec": {
   "display_name": "Python 3 (ipykernel)",
   "language": "python",
   "name": "python3"
  },
  "language_info": {
   "codemirror_mode": {
    "name": "ipython",
    "version": 3
   },
   "file_extension": ".py",
   "mimetype": "text/x-python",
   "name": "python",
   "nbconvert_exporter": "python",
   "pygments_lexer": "ipython3",
   "version": "3.10.7"
  }
 },
 "nbformat": 4,
 "nbformat_minor": 5
}
