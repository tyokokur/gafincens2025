{
 "cells": [
  {
   "cell_type": "code",
   "execution_count": 1,
   "id": "26b601c4-8d4f-4996-a1d8-60ed6820841b",
   "metadata": {},
   "outputs": [],
   "source": [
    "import Census as c"
   ]
  },
  {
   "cell_type": "code",
   "execution_count": 2,
   "id": "6a15acb0-0881-4744-b186-7acd1c3fea51",
   "metadata": {},
   "outputs": [
    {
     "data": {
      "text/plain": [
       "\u001b[1;31mType:\u001b[0m        module\n",
       "\u001b[1;31mString form:\u001b[0m <module 'Census' from 'E:\\\\(000) Git\\\\gafincens2025\\\\Census.py'>\n",
       "\u001b[1;31mFile:\u001b[0m        e:\\(000) git\\gafincens2025\\census.py\n",
       "\u001b[1;31mDocstring:\u001b[0m   <no docstring>\n"
      ]
     },
     "metadata": {},
     "output_type": "display_data"
    }
   ],
   "source": [
    "c"
   ]
  }
 ],
 "metadata": {
  "kernelspec": {
   "display_name": "Python 3 (ipykernel)",
   "language": "python",
   "name": "python3"
  },
  "language_info": {
   "codemirror_mode": {
    "name": "ipython",
    "version": 3
   },
   "file_extension": ".py",
   "mimetype": "text/x-python",
   "name": "python",
   "nbconvert_exporter": "python",
   "pygments_lexer": "ipython3",
   "version": "3.10.7"
  }
 },
 "nbformat": 4,
 "nbformat_minor": 5
}
