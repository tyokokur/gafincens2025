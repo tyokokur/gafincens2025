{
 "cells": [
  {
   "cell_type": "code",
   "execution_count": 1,
   "id": "26b601c4-8d4f-4996-a1d8-60ed6820841b",
   "metadata": {},
   "outputs": [],
   "source": [
    "import Census as c"
   ]
  },
  {
   "cell_type": "code",
   "execution_count": 2,
   "id": "6a15acb0-0881-4744-b186-7acd1c3fea51",
   "metadata": {},
   "outputs": [
    {
     "data": {
      "text/plain": [
       "\u001b[1;31mInit signature:\u001b[0m\n",
       "\u001b[0mc\u001b[0m\u001b[1;33m.\u001b[0m\u001b[0mCensus\u001b[0m\u001b[1;33m(\u001b[0m\u001b[1;33m\n",
       "\u001b[0m    \u001b[0mfilepath\u001b[0m\u001b[1;33m=\u001b[0m\u001b[1;34m''\u001b[0m\u001b[1;33m,\u001b[0m\u001b[1;33m\n",
       "\u001b[0m    \u001b[0mheader\u001b[0m\u001b[1;33m=\u001b[0m\u001b[1;36m1\u001b[0m\u001b[1;33m,\u001b[0m\u001b[1;33m\n",
       "\u001b[0m    \u001b[0mdatarange\u001b[0m\u001b[1;33m=\u001b[0m\u001b[1;33m(\u001b[0m\u001b[1;36m17\u001b[0m\u001b[1;33m,\u001b[0m \u001b[1;32mNone\u001b[0m\u001b[1;33m)\u001b[0m\u001b[1;33m,\u001b[0m\u001b[1;33m\n",
       "\u001b[0m    \u001b[0mfrom_file\u001b[0m\u001b[1;33m=\u001b[0m\u001b[1;32mTrue\u001b[0m\u001b[1;33m,\u001b[0m\u001b[1;33m\n",
       "\u001b[0m    \u001b[0morig_df\u001b[0m\u001b[1;33m=\u001b[0m   \u001b[0mempty\u001b[0m\u001b[1;33m\n",
       "\u001b[0m\u001b[1;36m0\u001b[0m      \u001b[1;36m0\u001b[0m\u001b[1;33m,\u001b[0m\u001b[1;33m\n",
       "\u001b[0m    \u001b[0morig_datarange\u001b[0m\u001b[1;33m=\u001b[0m\u001b[1;33m(\u001b[0m\u001b[1;32mNone\u001b[0m\u001b[1;33m,\u001b[0m \u001b[1;32mNone\u001b[0m\u001b[1;33m)\u001b[0m\u001b[1;33m,\u001b[0m\u001b[1;33m\n",
       "\u001b[0m\u001b[1;33m)\u001b[0m\u001b[1;33m\u001b[0m\u001b[1;33m\u001b[0m\u001b[0m\n",
       "\u001b[1;31mDocstring:\u001b[0m     \n",
       "    A class used to analyze Qualtrics data, designed for the UC Berkeley Graduate Assembly 2025 Financial Census\n",
       "    \n",
       "    ...\n",
       "\n",
       "Attributes\n",
       "----------\n",
       "data_df : pandas DataFrame\n",
       "    extracted data from csv with each row as a survey response\n",
       "qlist : list of str\n",
       "    questions asked in survey (columns of data_df)\n",
       "datarange : tuple of int\n",
       "    range of columns (questions) to store\n",
       "num_popped : int\n",
       "    tracker of columns popped to maintain correct original spreadsheet column names\n",
       "\n",
       "Methods\n",
       "-------\n",
       "count_single_choice(colname, sort=True)\n",
       "    for a single-choice question, returns df of choices and number of responses indicating that choice\n",
       "\n",
       "count_multi_choice(colname, sort=True)\n",
       "    for a multi-choice (\"select all that apply\") question, returns df of choices and number of responses indicating that choice\n",
       "\n",
       "section(datarange, orig_df)\n",
       "    returns a new Census class instance using the inputted datarange\n",
       "\n",
       "show_qlist()\n",
       "    sdf\n",
       "    \n",
       "pop_other(colname)\n",
       "    s\n",
       "    \n",
       "_init_from_file(filepath, header=1, datarange)\n",
       "    sdf\n",
       "\u001b[1;31mFile:\u001b[0m           e:\\(000) git\\gafincens2025\\census.py\n",
       "\u001b[1;31mType:\u001b[0m           type\n",
       "\u001b[1;31mSubclasses:\u001b[0m     \n"
      ]
     },
     "metadata": {},
     "output_type": "display_data"
    }
   ],
   "source": [
    "c.Census?"
   ]
  }
 ],
 "metadata": {
  "kernelspec": {
   "display_name": "Python 3 (ipykernel)",
   "language": "python",
   "name": "python3"
  },
  "language_info": {
   "codemirror_mode": {
    "name": "ipython",
    "version": 3
   },
   "file_extension": ".py",
   "mimetype": "text/x-python",
   "name": "python",
   "nbconvert_exporter": "python",
   "pygments_lexer": "ipython3",
   "version": "3.10.7"
  }
 },
 "nbformat": 4,
 "nbformat_minor": 5
}
